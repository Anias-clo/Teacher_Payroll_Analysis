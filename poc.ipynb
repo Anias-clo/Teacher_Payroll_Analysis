{
 "cells": [
  {
   "cell_type": "code",
   "execution_count": 1,
   "metadata": {},
   "outputs": [],
   "source": [
    "import pandas as pd\n",
    "pd.set_option('display.max_rows', 200)\n",
    "\n",
    "%matplotlib inline\n",
    "import matplotlib.pyplot as plt\n",
    "import seaborn as sns"
   ]
  },
  {
   "cell_type": "code",
   "execution_count": 2,
   "metadata": {},
   "outputs": [
    {
     "name": "stderr",
     "output_type": "stream",
     "text": [
      "C:\\Users\\chris\\AppData\\Local\\Temp\\ipykernel_24224\\3698127440.py:1: DtypeWarning: Columns (7) have mixed types. Specify dtype option on import or set low_memory=False.\n",
      "  data = pd.read_csv('city_payroll_data.csv')\n"
     ]
    }
   ],
   "source": [
    "data = pd.read_csv('city_payroll_data.csv')"
   ]
  },
  {
   "cell_type": "code",
   "execution_count": 3,
   "metadata": {},
   "outputs": [],
   "source": [
    "ed_agencies = [\n",
    "# 'DEPT OF ED PER DIEM TEACHERS',\n",
    "# 'DEPT OF ED PER SESSION TEACHER',\n",
    "# 'DEPARTMENT OF EDUCATION ADMIN',\n",
    "# 'DEPT OF ED HRLY SUPPORT STAFF',\n",
    "# 'DEPT OF ED PARA PROFESSIONALS',\n",
    "'DEPT OF ED PEDAGOGICAL',\n",
    "# 'TEACHERS RETIREMENT SYSTEM',\n",
    "# 'NYC EMPLOYEES RETIREMENT SYS'\n",
    "]"
   ]
  },
  {
   "cell_type": "code",
   "execution_count": 5,
   "metadata": {},
   "outputs": [],
   "source": [
    "df = data[(data['Agency Name']=='DEPT OF ED PEDAGOGICAL')\\\n",
    "          &(data['Title Description']=='TEACHER')]"
   ]
  },
  {
   "cell_type": "code",
   "execution_count": 6,
   "metadata": {},
   "outputs": [],
   "source": [
    "df = df.sort_values(by='Fiscal Year')\n",
    "df = df.reset_index(drop=True)"
   ]
  },
  {
   "cell_type": "code",
   "execution_count": 7,
   "metadata": {},
   "outputs": [
    {
     "data": {
      "text/html": [
       "<div>\n",
       "<style scoped>\n",
       "    .dataframe tbody tr th:only-of-type {\n",
       "        vertical-align: middle;\n",
       "    }\n",
       "\n",
       "    .dataframe tbody tr th {\n",
       "        vertical-align: top;\n",
       "    }\n",
       "\n",
       "    .dataframe thead th {\n",
       "        text-align: right;\n",
       "    }\n",
       "</style>\n",
       "<table border=\"1\" class=\"dataframe\">\n",
       "  <thead>\n",
       "    <tr style=\"text-align: right;\">\n",
       "      <th></th>\n",
       "      <th>Fiscal Year</th>\n",
       "      <th>Payroll Number</th>\n",
       "      <th>Agency Name</th>\n",
       "      <th>Last Name</th>\n",
       "      <th>First Name</th>\n",
       "      <th>Mid Init</th>\n",
       "      <th>Agency Start Date</th>\n",
       "      <th>Work Location Borough</th>\n",
       "      <th>Title Description</th>\n",
       "      <th>Leave Status as of June 30</th>\n",
       "      <th>Base Salary</th>\n",
       "      <th>Pay Basis</th>\n",
       "      <th>Regular Hours</th>\n",
       "      <th>Regular Gross Paid</th>\n",
       "      <th>OT Hours</th>\n",
       "      <th>Total OT Paid</th>\n",
       "      <th>Total Other Pay</th>\n",
       "    </tr>\n",
       "  </thead>\n",
       "  <tbody>\n",
       "    <tr>\n",
       "      <th>0</th>\n",
       "      <td>2014</td>\n",
       "      <td>742.0</td>\n",
       "      <td>DEPT OF ED PEDAGOGICAL</td>\n",
       "      <td>MOREL</td>\n",
       "      <td>LAURA</td>\n",
       "      <td>NaN</td>\n",
       "      <td>09/06/2011</td>\n",
       "      <td>NaN</td>\n",
       "      <td>TEACHER</td>\n",
       "      <td>ACTIVE</td>\n",
       "      <td>60626.0</td>\n",
       "      <td>per Annum</td>\n",
       "      <td>0.0</td>\n",
       "      <td>60620.03</td>\n",
       "      <td>0.0</td>\n",
       "      <td>0.0</td>\n",
       "      <td>1000.0</td>\n",
       "    </tr>\n",
       "    <tr>\n",
       "      <th>1</th>\n",
       "      <td>2014</td>\n",
       "      <td>742.0</td>\n",
       "      <td>DEPT OF ED PEDAGOGICAL</td>\n",
       "      <td>DELGADO</td>\n",
       "      <td>LILLIAN</td>\n",
       "      <td>M</td>\n",
       "      <td>09/08/1998</td>\n",
       "      <td>NaN</td>\n",
       "      <td>TEACHER</td>\n",
       "      <td>ACTIVE</td>\n",
       "      <td>79531.0</td>\n",
       "      <td>per Annum</td>\n",
       "      <td>0.0</td>\n",
       "      <td>78791.12</td>\n",
       "      <td>0.0</td>\n",
       "      <td>0.0</td>\n",
       "      <td>1000.0</td>\n",
       "    </tr>\n",
       "    <tr>\n",
       "      <th>2</th>\n",
       "      <td>2014</td>\n",
       "      <td>742.0</td>\n",
       "      <td>DEPT OF ED PEDAGOGICAL</td>\n",
       "      <td>DEGRANGE</td>\n",
       "      <td>TRICIA</td>\n",
       "      <td>A</td>\n",
       "      <td>09/08/1998</td>\n",
       "      <td>NaN</td>\n",
       "      <td>TEACHER</td>\n",
       "      <td>ACTIVE</td>\n",
       "      <td>79531.0</td>\n",
       "      <td>per Annum</td>\n",
       "      <td>0.0</td>\n",
       "      <td>77385.43</td>\n",
       "      <td>0.0</td>\n",
       "      <td>0.0</td>\n",
       "      <td>1000.0</td>\n",
       "    </tr>\n",
       "    <tr>\n",
       "      <th>3</th>\n",
       "      <td>2014</td>\n",
       "      <td>742.0</td>\n",
       "      <td>DEPT OF ED PEDAGOGICAL</td>\n",
       "      <td>DEGRAFFENREID</td>\n",
       "      <td>ARLEEN</td>\n",
       "      <td>NaN</td>\n",
       "      <td>09/08/1998</td>\n",
       "      <td>NaN</td>\n",
       "      <td>TEACHER</td>\n",
       "      <td>ACTIVE</td>\n",
       "      <td>79531.0</td>\n",
       "      <td>per Annum</td>\n",
       "      <td>0.0</td>\n",
       "      <td>78791.12</td>\n",
       "      <td>0.0</td>\n",
       "      <td>0.0</td>\n",
       "      <td>1000.0</td>\n",
       "    </tr>\n",
       "    <tr>\n",
       "      <th>4</th>\n",
       "      <td>2014</td>\n",
       "      <td>742.0</td>\n",
       "      <td>DEPT OF ED PEDAGOGICAL</td>\n",
       "      <td>DEEGAN</td>\n",
       "      <td>TIMOTHY</td>\n",
       "      <td>F</td>\n",
       "      <td>09/08/1998</td>\n",
       "      <td>NaN</td>\n",
       "      <td>TEACHER</td>\n",
       "      <td>ACTIVE</td>\n",
       "      <td>79531.0</td>\n",
       "      <td>per Annum</td>\n",
       "      <td>0.0</td>\n",
       "      <td>79073.44</td>\n",
       "      <td>0.0</td>\n",
       "      <td>0.0</td>\n",
       "      <td>1000.0</td>\n",
       "    </tr>\n",
       "  </tbody>\n",
       "</table>\n",
       "</div>"
      ],
      "text/plain": [
       "   Fiscal Year  Payroll Number             Agency Name      Last Name  \\\n",
       "0         2014           742.0  DEPT OF ED PEDAGOGICAL          MOREL   \n",
       "1         2014           742.0  DEPT OF ED PEDAGOGICAL        DELGADO   \n",
       "2         2014           742.0  DEPT OF ED PEDAGOGICAL       DEGRANGE   \n",
       "3         2014           742.0  DEPT OF ED PEDAGOGICAL  DEGRAFFENREID   \n",
       "4         2014           742.0  DEPT OF ED PEDAGOGICAL         DEEGAN   \n",
       "\n",
       "  First Name Mid Init Agency Start Date Work Location Borough  \\\n",
       "0      LAURA      NaN        09/06/2011                   NaN   \n",
       "1    LILLIAN        M        09/08/1998                   NaN   \n",
       "2     TRICIA        A        09/08/1998                   NaN   \n",
       "3     ARLEEN      NaN        09/08/1998                   NaN   \n",
       "4    TIMOTHY        F        09/08/1998                   NaN   \n",
       "\n",
       "  Title Description Leave Status as of June 30  Base Salary  Pay Basis  \\\n",
       "0           TEACHER                     ACTIVE      60626.0  per Annum   \n",
       "1           TEACHER                     ACTIVE      79531.0  per Annum   \n",
       "2           TEACHER                     ACTIVE      79531.0  per Annum   \n",
       "3           TEACHER                     ACTIVE      79531.0  per Annum   \n",
       "4           TEACHER                     ACTIVE      79531.0  per Annum   \n",
       "\n",
       "   Regular Hours  Regular Gross Paid  OT Hours  Total OT Paid  Total Other Pay  \n",
       "0            0.0            60620.03       0.0            0.0           1000.0  \n",
       "1            0.0            78791.12       0.0            0.0           1000.0  \n",
       "2            0.0            77385.43       0.0            0.0           1000.0  \n",
       "3            0.0            78791.12       0.0            0.0           1000.0  \n",
       "4            0.0            79073.44       0.0            0.0           1000.0  "
      ]
     },
     "execution_count": 7,
     "metadata": {},
     "output_type": "execute_result"
    }
   ],
   "source": [
    "df.head()"
   ]
  },
  {
   "cell_type": "code",
   "execution_count": 8,
   "metadata": {},
   "outputs": [],
   "source": [
    "df['Agency Start Date'] = pd.to_datetime(df['Agency Start Date'], errors='coerce')"
   ]
  },
  {
   "cell_type": "code",
   "execution_count": 9,
   "metadata": {},
   "outputs": [],
   "source": [
    "df['Work Location Borough'] = df['Work Location Borough'].str.strip().str.title()"
   ]
  },
  {
   "cell_type": "code",
   "execution_count": 10,
   "metadata": {},
   "outputs": [],
   "source": [
    "df = df.drop(columns=['Payroll Number', 'Agency Name',\n",
    "                 'Title Description', 'Pay Basis',\n",
    "                 'Regular Hours', 'OT Hours', 'Total OT Paid'])"
   ]
  },
  {
   "cell_type": "code",
   "execution_count": 11,
   "metadata": {},
   "outputs": [
    {
     "data": {
      "text/plain": [
       "count    617422.000000\n",
       "mean       2173.025292\n",
       "std        4512.517886\n",
       "min      -64984.350000\n",
       "25%           0.000000\n",
       "50%           5.200000\n",
       "75%        2389.257500\n",
       "max      149273.710000\n",
       "Name: Total Other Pay, dtype: float64"
      ]
     },
     "execution_count": 11,
     "metadata": {},
     "output_type": "execute_result"
    }
   ],
   "source": [
    "df['Total Other Pay'].describe()"
   ]
  },
  {
   "cell_type": "code",
   "execution_count": 12,
   "metadata": {},
   "outputs": [
    {
     "data": {
      "text/plain": [
       "Fiscal Year                   620\n",
       "Last Name                     620\n",
       "First Name                    620\n",
       "Mid Init                      415\n",
       "Agency Start Date             620\n",
       "Work Location Borough         619\n",
       "Leave Status as of June 30    620\n",
       "Base Salary                   620\n",
       "Regular Gross Paid            620\n",
       "Total Other Pay               620\n",
       "dtype: int64"
      ]
     },
     "execution_count": 12,
     "metadata": {},
     "output_type": "execute_result"
    }
   ],
   "source": [
    "df[df['Regular Gross Paid'] < 0].count()"
   ]
  },
  {
   "cell_type": "code",
   "execution_count": 13,
   "metadata": {},
   "outputs": [
    {
     "data": {
      "text/plain": [
       "Fiscal Year                   12116\n",
       "Last Name                     12116\n",
       "First Name                    12116\n",
       "Mid Init                       7198\n",
       "Agency Start Date             12114\n",
       "Work Location Borough         11900\n",
       "Leave Status as of June 30    12116\n",
       "Base Salary                   12116\n",
       "Regular Gross Paid            12116\n",
       "Total Other Pay               12116\n",
       "dtype: int64"
      ]
     },
     "execution_count": 13,
     "metadata": {},
     "output_type": "execute_result"
    }
   ],
   "source": [
    "df[df['Total Other Pay'] < 0].count()"
   ]
  },
  {
   "cell_type": "code",
   "execution_count": 14,
   "metadata": {},
   "outputs": [
    {
     "ename": "SyntaxError",
     "evalue": "invalid syntax (4109251419.py, line 1)",
     "output_type": "error",
     "traceback": [
      "\u001b[1;36m  Cell \u001b[1;32mIn[14], line 1\u001b[1;36m\u001b[0m\n\u001b[1;33m    df['Total Pay'] = df[] + df['Total Other Pay']\u001b[0m\n\u001b[1;37m                         ^\u001b[0m\n\u001b[1;31mSyntaxError\u001b[0m\u001b[1;31m:\u001b[0m invalid syntax\n"
     ]
    }
   ],
   "source": [
    "df['Total Pay'] = df[] + df['Total Other Pay']"
   ]
  }
 ],
 "metadata": {
  "kernelspec": {
   "display_name": "base",
   "language": "python",
   "name": "python3"
  },
  "language_info": {
   "codemirror_mode": {
    "name": "ipython",
    "version": 3
   },
   "file_extension": ".py",
   "mimetype": "text/x-python",
   "name": "python",
   "nbconvert_exporter": "python",
   "pygments_lexer": "ipython3",
   "version": "3.11.5"
  }
 },
 "nbformat": 4,
 "nbformat_minor": 2
}
